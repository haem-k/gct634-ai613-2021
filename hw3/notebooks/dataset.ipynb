{
 "cells": [
  {
   "cell_type": "code",
   "execution_count": 14,
   "metadata": {},
   "outputs": [],
   "source": [
    "import sys\n",
    "sys.path.append('../')\n",
    "\n",
    "import matplotlib.pyplot as plt\n",
    "%matplotlib inline\n",
    "\n",
    "from dataset import MAESTRO_small\n",
    "from constants import HOP_SIZE"
   ]
  },
  {
   "cell_type": "markdown",
   "metadata": {},
   "source": [
    "### Dataset\n",
    "\n",
    "MAESTRO_small is a dataset class for piano transcription. You can specify the path of the maestro dataset through *path*. *groups* indicates the dataset splits. You can select some of the below and pass them as a list of strings.\n",
    "```\n",
    ">>train_set.available_groups()\n",
    "['train', 'validation', 'test', 'debug']\n",
    "```\n",
    "When you create the dataset, it will read all the files (audio, midi) and parse them. Here, we will use `'debug'` dataset, which is a subset of the `'train'` dataset (first 10 pieces)."
   ]
  },
  {
   "cell_type": "code",
   "execution_count": null,
   "metadata": {},
   "outputs": [],
   "source": [
    "example_dataset = MAESTRO_small(path='../data', groups=['debug'], sequence_length=None, random_sample=True)"
   ]
  },
  {
   "cell_type": "code",
   "execution_count": null,
   "metadata": {},
   "outputs": [],
   "source": [
    "example_dataset.available_groups()"
   ]
  },
  {
   "cell_type": "markdown",
   "metadata": {},
   "source": [
    "### Data types\n",
    "You can treat it as a python list. When you access it with an index, `__getitem__` method will be called.\n",
    "It will return a python dict which contains the file paths, normalized audios, and piano rolls.\n",
    "\n",
    "Sample rate of the audio is `16000` and we will use `hop_size=512` for mel-spectrogram and piano roll, resulting in  frame rate of `16000/512 == 31.25`.\n",
    "\n",
    "In the example below, we examine the shapes of the tensors in the dataset."
   ]
  },
  {
   "cell_type": "code",
   "execution_count": null,
   "metadata": {},
   "outputs": [],
   "source": [
    "data = example_dataset[1]\n",
    "print(f'data: {data}')\n",
    "print(f'audio_shape: {data[\"audio\"].shape}')\n",
    "print(f'frame_roll_shape: {data[\"frame\"].shape}')\n",
    "print(f'onset_roll_shape: {data[\"onset\"].shape}')\n",
    "\n",
    "print(f'HOP_SIZE({HOP_SIZE}) x piano_roll length({data[\"frame\"].shape[0]}): {HOP_SIZE*data[\"frame\"].shape[0]}')"
   ]
  },
  {
   "cell_type": "markdown",
   "metadata": {},
   "source": [
    "### Piano roll\n",
    "Piano roll is an array-like representation of notes.\n",
    "`frame` and `onset` are tensors of shape (*number of frames*, *number of pithces (88)*).\n",
    "\n",
    "The `frame` represents the sustains of the notes and `onset` marks the attacks of the notes.\n",
    "Let's suppose there is a piano note of pitch `p` pressed at time `t1` and released at `t2`.  \n",
    "Then, `frame[t1:t2+1, p] == 1` and `onset[t1, p] == 1`, and `0` everywhere else.\n"
   ]
  },
  {
   "cell_type": "code",
   "execution_count": null,
   "metadata": {},
   "outputs": [],
   "source": [
    "plt.figure(figsize=(10,8))\n",
    "plt.subplot(311)\n",
    "plt.plot(data['audio'].numpy()[:400*HOP_SIZE])\n",
    "plt.autoscale(enable=True, axis='x', tight=True)\n",
    "plt.subplot(312)\n",
    "plt.imshow(data['frame'].numpy()[:400].T, aspect='auto', origin='lower')\n",
    "plt.subplot(313)\n",
    "plt.imshow(data['onset'].numpy()[:400].T, aspect='auto', origin='lower')\n"
   ]
  },
  {
   "cell_type": "markdown",
   "metadata": {},
   "source": [
    "### sequence_length & random_sample\n",
    "If we specify the `sequence_length`, the dataset trims the audio into the given length. When `random_sample=False`, the segments at the start of the audio will be used. If `random_sample=True`, the segments starting at random position will be used. We will use this attribute to make our training samples stocastic.\n",
    "\n",
    "if `sequence_length` is not divisible by `HOP_SIZE`, it will shorten the audio for proper adjustment."
   ]
  },
  {
   "cell_type": "code",
   "execution_count": null,
   "metadata": {
    "scrolled": true
   },
   "outputs": [],
   "source": [
    "example_dataset = MAESTRO_small(path='../data', groups=['debug'], sequence_length=10000, random_sample=True)"
   ]
  },
  {
   "cell_type": "code",
   "execution_count": null,
   "metadata": {
    "scrolled": true
   },
   "outputs": [],
   "source": [
    "data = example_dataset[1]\n",
    "print(f'data path: {data[\"path\"]}')\n",
    "print(f'audio_shape: {data[\"audio\"].shape}')\n",
    "print(f'frame_roll_shape: {data[\"frame\"].shape}')\n",
    "print(f'onset_roll_shape: {data[\"onset\"].shape}')"
   ]
  },
  {
   "cell_type": "code",
   "execution_count": null,
   "metadata": {},
   "outputs": [],
   "source": [
    "plt.figure(figsize=(10,8))\n",
    "plt.subplot(311)\n",
    "plt.plot(data['audio'].numpy()[:400*HOP_SIZE])\n",
    "plt.autoscale(enable=True, axis='x', tight=True)\n",
    "plt.subplot(312)\n",
    "plt.imshow(data['frame'].numpy()[:400].T, aspect='auto', origin='lower')\n",
    "plt.subplot(313)\n",
    "plt.imshow(data['onset'].numpy()[:400].T, aspect='auto', origin='lower')\n"
   ]
  },
  {
   "cell_type": "markdown",
   "metadata": {},
   "source": [
    "## Visulize GT test samples\n",
    "\n",
    "Use test"
   ]
  },
  {
   "cell_type": "code",
   "execution_count": 3,
   "metadata": {},
   "outputs": [
    {
     "name": "stdout",
     "output_type": "stream",
     "text": [
      "Loading 1 group(s) of MAESTRO_small at ../data\n"
     ]
    },
    {
     "name": "stderr",
     "output_type": "stream",
     "text": [
      "Loading group test: 100%|█████████████████████████████████████████| 50/50 [00:09<00:00,  5.17it/s]\n"
     ]
    }
   ],
   "source": [
    "test_dataset = MAESTRO_small(path='../data', groups=['test'], random_sample=False)"
   ]
  },
  {
   "cell_type": "code",
   "execution_count": 4,
   "metadata": {},
   "outputs": [
    {
     "name": "stdout",
     "output_type": "stream",
     "text": [
      "data 0: ../data/2004/MIDI-Unprocessed_SMF_17_R1_2004_03-06_ORIG_MID--AUDIO_20_R2_2004_12_Track12_wav--1.flac\n",
      "data 1: ../data/2004/MIDI-Unprocessed_XP_04_R1_2004_03-05_ORIG_MID--AUDIO_04_R1_2004_06_Track06_wav.flac\n",
      "data 2: ../data/2006/MIDI-Unprocessed_01_R1_2006_01-09_ORIG_MID--AUDIO_01_R1_2006_02_Track02_wav.flac\n",
      "data 3: ../data/2006/MIDI-Unprocessed_01_R1_2006_01-09_ORIG_MID--AUDIO_01_R1_2006_04_Track04_wav.flac\n",
      "data 4: ../data/2006/MIDI-Unprocessed_03_R1_2006_01-05_ORIG_MID--AUDIO_03_R1_2006_04_Track04_wav.flac\n",
      "data 5: ../data/2006/MIDI-Unprocessed_07_R1_2006_01-04_ORIG_MID--AUDIO_07_R1_2006_04_Track04_wav.flac\n",
      "data 6: ../data/2006/MIDI-Unprocessed_24_R1_2006_01-05_ORIG_MID--AUDIO_24_R1_2006_03_Track03_wav.flac\n",
      "data 7: ../data/2008/MIDI-Unprocessed_04_R1_2008_01-04_ORIG_MID--AUDIO_04_R1_2008_wav--4.flac\n",
      "data 8: ../data/2008/MIDI-Unprocessed_04_R3_2008_01-07_ORIG_MID--AUDIO_04_R3_2008_wav--3.flac\n",
      "data 9: ../data/2008/MIDI-Unprocessed_04_R3_2008_01-07_ORIG_MID--AUDIO_04_R3_2008_wav--6.flac\n",
      "data 10: ../data/2008/MIDI-Unprocessed_04_R3_2008_01-07_ORIG_MID--AUDIO_04_R3_2008_wav--7.flac\n",
      "data 11: ../data/2008/MIDI-Unprocessed_05_R1_2008_01-04_ORIG_MID--AUDIO_05_R1_2008_wav--3.flac\n",
      "data 12: ../data/2008/MIDI-Unprocessed_06_R1_2008_01-04_ORIG_MID--AUDIO_06_R1_2008_wav--3.flac\n",
      "data 13: ../data/2008/MIDI-Unprocessed_09_R3_2008_01-07_ORIG_MID--AUDIO_09_R3_2008_wav--1.flac\n",
      "data 14: ../data/2008/MIDI-Unprocessed_09_R3_2008_01-07_ORIG_MID--AUDIO_09_R3_2008_wav--2.flac\n",
      "data 15: ../data/2008/MIDI-Unprocessed_10_R2_2008_01-05_ORIG_MID--AUDIO_10_R2_2008_wav--1.flac\n",
      "data 16: ../data/2008/MIDI-Unprocessed_10_R2_2008_01-05_ORIG_MID--AUDIO_10_R2_2008_wav--2.flac\n",
      "data 17: ../data/2008/MIDI-Unprocessed_14_R1_2008_01-05_ORIG_MID--AUDIO_14_R1_2008_wav--3.flac\n",
      "data 18: ../data/2008/MIDI-Unprocessed_17_R1_2008_01-04_ORIG_MID--AUDIO_17_R1_2008_wav--3.flac\n",
      "data 19: ../data/2009/MIDI-Unprocessed_02_R1_2009_03-06_ORIG_MID--AUDIO_02_R1_2009_02_R1_2009_04_WAV.flac\n",
      "data 20: ../data/2009/MIDI-Unprocessed_08_R1_2009_01-04_ORIG_MID--AUDIO_08_R1_2009_08_R1_2009_03_WAV.flac\n",
      "data 21: ../data/2009/MIDI-Unprocessed_08_R1_2009_01-04_ORIG_MID--AUDIO_08_R1_2009_08_R1_2009_04_WAV.flac\n",
      "data 22: ../data/2009/MIDI-Unprocessed_11_R1_2009_01-05_ORIG_MID--AUDIO_11_R1_2009_11_R1_2009_04_WAV.flac\n",
      "data 23: ../data/2009/MIDI-Unprocessed_11_R1_2009_06-09_ORIG_MID--AUDIO_11_R1_2009_11_R1_2009_07_WAV.flac\n",
      "data 24: ../data/2009/MIDI-Unprocessed_11_R1_2009_06-09_ORIG_MID--AUDIO_11_R1_2009_11_R1_2009_08_WAV.flac\n",
      "data 25: ../data/2011/MIDI-Unprocessed_02_R1_2011_MID--AUDIO_R1-D1_10_Track10_wav.flac\n",
      "data 26: ../data/2011/MIDI-Unprocessed_04_R3_2011_MID--AUDIO_R3-D2_05_Track05_wav.flac\n",
      "data 27: ../data/2011/MIDI-Unprocessed_14_R1_2011_MID--AUDIO_R1-D6_04_Track04_wav.flac\n",
      "data 28: ../data/2013/ORIG-MIDI_01_7_6_13_Group__MID--AUDIO_01_R1_2013_wav--4.flac\n",
      "data 29: ../data/2013/ORIG-MIDI_01_7_7_13_Group__MID--AUDIO_11_R1_2013_wav--4.flac\n",
      "data 30: ../data/2013/ORIG-MIDI_01_7_7_13_Group__MID--AUDIO_13_R1_2013_wav--3.flac\n",
      "data 31: ../data/2013/ORIG-MIDI_02_7_6_13_Group__MID--AUDIO_08_R1_2013_wav--4.flac\n",
      "data 32: ../data/2013/ORIG-MIDI_02_7_6_13_Group__MID--AUDIO_08_R1_2013_wav--5.flac\n",
      "data 33: ../data/2014/MIDI-UNPROCESSED_01-03_R1_2014_MID--AUDIO_01_R1_2014_wav--1.flac\n",
      "data 34: ../data/2014/MIDI-UNPROCESSED_01-03_R1_2014_MID--AUDIO_01_R1_2014_wav--2.flac\n",
      "data 35: ../data/2014/MIDI-UNPROCESSED_09-10_R1_2014_MID--AUDIO_09_R1_2014_wav--4.flac\n",
      "data 36: ../data/2014/MIDI-UNPROCESSED_11-13_R1_2014_MID--AUDIO_11_R1_2014_wav--1.flac\n",
      "data 37: ../data/2014/MIDI-UNPROCESSED_11-13_R1_2014_MID--AUDIO_13_R1_2014_wav--6.flac\n",
      "data 38: ../data/2014/MIDI-UNPROCESSED_19-21_R3_2014_MID--AUDIO_21_R3_2014_wav--1.flac\n",
      "data 39: ../data/2015/MIDI-Unprocessed_R2_D2-12-13-15_mid--AUDIO-from_mp3_12_R2_2015_wav--3.flac\n",
      "data 40: ../data/2015/MIDI-Unprocessed_R2_D2-12-13-15_mid--AUDIO-from_mp3_13_R2_2015_wav--4.flac\n",
      "data 41: ../data/2017/MIDI-Unprocessed_059_PIANO059_MID--AUDIO-split_07-07-17_Piano-e_2-03_wav--4.flac\n",
      "data 42: ../data/2017/MIDI-Unprocessed_065_PIANO065_MID--AUDIO-split_07-07-17_Piano-e_3-01_wav--3.flac\n",
      "data 43: ../data/2017/MIDI-Unprocessed_075_PIANO075_MID--AUDIO-split_07-08-17_Piano-e_2-06_wav--3.flac\n",
      "data 44: ../data/2017/MIDI-Unprocessed_083_PIANO083_MID--AUDIO-split_07-09-17_Piano-e_2_-06_wav--1.flac\n",
      "data 45: ../data/2018/MIDI-Unprocessed_Recital13-15_MID--AUDIO_15_R1_2018_wav--1.flac\n",
      "data 46: ../data/2018/MIDI-Unprocessed_Recital16_MID--AUDIO_16_R1_2018_wav--3.flac\n",
      "data 47: ../data/2018/MIDI-Unprocessed_Recital17-19_MID--AUDIO_18_R1_2018_wav--3.flac\n",
      "data 48: ../data/2018/MIDI-Unprocessed_Recital17-19_MID--AUDIO_19_R1_2018_wav--3.flac\n",
      "data 49: ../data/2018/MIDI-Unprocessed_Recital9-11_MID--AUDIO_09_R1_2018_wav--5.flac\n"
     ]
    }
   ],
   "source": [
    "for i in range(len(test_dataset)):\n",
    "    data = test_dataset[i]\n",
    "    print(f'data {i}: {data[\"path\"]}')"
   ]
  },
  {
   "cell_type": "code",
   "execution_count": 23,
   "metadata": {},
   "outputs": [
    {
     "name": "stdout",
     "output_type": "stream",
     "text": [
      "data path: ../data/2015/MIDI-Unprocessed_R2_D2-12-13-15_mid--AUDIO-from_mp3_13_R2_2015_wav--4.flac\n",
      "audio_shape: torch.Size([10353664])\n",
      "frame_roll_shape: torch.Size([20222, 88])\n",
      "onset_roll_shape: torch.Size([20222, 88])\n"
     ]
    }
   ],
   "source": [
    "data = test_dataset[40]\n",
    "print(f'data path: {data[\"path\"]}')\n",
    "print(f'audio_shape: {data[\"audio\"].shape}')\n",
    "print(f'frame_roll_shape: {data[\"frame\"].shape}')\n",
    "print(f'onset_roll_shape: {data[\"onset\"].shape}')"
   ]
  },
  {
   "cell_type": "code",
   "execution_count": 24,
   "metadata": {},
   "outputs": [
    {
     "data": {
      "text/plain": [
       "<matplotlib.image.AxesImage at 0x7fbd208da850>"
      ]
     },
     "execution_count": 24,
     "metadata": {},
     "output_type": "execute_result"
    },
    {
     "data": {
      "image/png": "[encoded data removed]",
      "text/plain": [
       "<Figure size 720x576 with 3 Axes>"
      ]
     },
     "metadata": {
      "needs_background": "light"
     },
     "output_type": "display_data"
    }
   ],
   "source": [
    "plt.figure(figsize=(10,8))\n",
    "plt.subplot(311).set_title('GT test sample')\n",
    "plt.plot(data['audio'].numpy()[:400*HOP_SIZE])\n",
    "plt.autoscale(enable=True, axis='x', tight=True)\n",
    "plt.subplot(312)\n",
    "plt.imshow(data['frame'].numpy()[:400].T, aspect='auto', origin='lower')\n",
    "plt.subplot(313)\n",
    "plt.imshow(data['onset'].numpy()[:400].T, aspect='auto', origin='lower')\n"
   ]
  },
  {
   "cell_type": "markdown",
   "metadata": {},
   "source": [
    "## Visualize prediction results\n",
    "\n",
    "Use debug"
   ]
  },
  {
   "cell_type": "code",
   "execution_count": 17,
   "metadata": {},
   "outputs": [],
   "source": [
    "import pretty_midi\n",
    "import soundfile\n",
    "import torch\n",
    "import numpy as np\n",
    "import glob\n",
    "\n",
    "\n",
    "SAMPLE_RATE = 16000\n",
    "MIN_MIDI = 21\n",
    "MAX_MIDI = 108\n",
    "\n",
    "HOP_SIZE = 512\n",
    "N_MELS = 229\n",
    "N_FFT = 2048\n",
    "F_MIN = 30\n",
    "F_MAX = 8000\n"
   ]
  },
  {
   "cell_type": "code",
   "execution_count": 18,
   "metadata": {},
   "outputs": [],
   "source": [
    "def load(audio_path, midi_path):\n",
    "    \"\"\"Loads an audio track and the corresponding labels.\"\"\"\n",
    "    audio, sr = soundfile.read(audio_path, dtype='int16')\n",
    "    assert sr == SAMPLE_RATE\n",
    "    frames_per_sec = sr / HOP_SIZE\n",
    "\n",
    "    audio = torch.ShortTensor(audio)\n",
    "    audio_length = len(audio)\n",
    "\n",
    "    mel_length = audio_length // HOP_SIZE + 1\n",
    "\n",
    "    midi = pretty_midi.PrettyMIDI(midi_path)\n",
    "    midi_length_sec = midi.get_end_time()\n",
    "    frame_length = min(int(midi_length_sec * frames_per_sec), mel_length)\n",
    "\n",
    "    audio = audio[:frame_length * HOP_SIZE]\n",
    "    frame = midi.get_piano_roll(fs=frames_per_sec)\n",
    "    onset = np.zeros_like(frame)\n",
    "    for inst in midi.instruments:\n",
    "        for note in inst.notes:\n",
    "            onset[note.pitch, int(note.start * frames_per_sec)] = 1\n",
    "\n",
    "    # to shape (time, pitch (88))\n",
    "    frame = torch.from_numpy(frame[MIN_MIDI:MAX_MIDI + 1].T)\n",
    "    onset = torch.from_numpy(onset[MIN_MIDI:MAX_MIDI + 1].T)\n",
    "    data = dict(path=audio_path, audio=audio, frame=frame, onset=onset)\n",
    "    return data"
   ]
  },
  {
   "cell_type": "code",
   "execution_count": 19,
   "metadata": {},
   "outputs": [
    {
     "name": "stdout",
     "output_type": "stream",
     "text": [
      "data 0: ../runs/onf/MIDI-UNPROCESSED_01-03_R1_2014_MID--AUDIO_01_R1_2014_wav--1.midi\n",
      "data 1: ../runs/onf/MIDI-UNPROCESSED_01-03_R1_2014_MID--AUDIO_01_R1_2014_wav--2.midi\n",
      "data 2: ../runs/onf/MIDI-UNPROCESSED_09-10_R1_2014_MID--AUDIO_09_R1_2014_wav--4.midi\n",
      "data 3: ../runs/onf/MIDI-UNPROCESSED_11-13_R1_2014_MID--AUDIO_11_R1_2014_wav--1.midi\n",
      "data 4: ../runs/onf/MIDI-UNPROCESSED_11-13_R1_2014_MID--AUDIO_13_R1_2014_wav--6.midi\n",
      "data 5: ../runs/onf/MIDI-UNPROCESSED_19-21_R3_2014_MID--AUDIO_21_R3_2014_wav--1.midi\n",
      "data 6: ../runs/onf/MIDI-Unprocessed_01_R1_2006_01-09_ORIG_MID--AUDIO_01_R1_2006_02_Track02_wav.midi\n",
      "data 7: ../runs/onf/MIDI-Unprocessed_01_R1_2006_01-09_ORIG_MID--AUDIO_01_R1_2006_04_Track04_wav.midi\n",
      "data 8: ../runs/onf/MIDI-Unprocessed_02_R1_2009_03-06_ORIG_MID--AUDIO_02_R1_2009_02_R1_2009_04_WAV.midi\n",
      "data 9: ../runs/onf/MIDI-Unprocessed_02_R1_2011_MID--AUDIO_R1-D1_10_Track10_wav.midi\n",
      "data 10: ../runs/onf/MIDI-Unprocessed_03_R1_2006_01-05_ORIG_MID--AUDIO_03_R1_2006_04_Track04_wav.midi\n",
      "data 11: ../runs/onf/MIDI-Unprocessed_04_R1_2008_01-04_ORIG_MID--AUDIO_04_R1_2008_wav--4.midi\n",
      "data 12: ../runs/onf/MIDI-Unprocessed_04_R3_2008_01-07_ORIG_MID--AUDIO_04_R3_2008_wav--3.midi\n",
      "data 13: ../runs/onf/MIDI-Unprocessed_04_R3_2008_01-07_ORIG_MID--AUDIO_04_R3_2008_wav--6.midi\n",
      "data 14: ../runs/onf/MIDI-Unprocessed_04_R3_2008_01-07_ORIG_MID--AUDIO_04_R3_2008_wav--7.midi\n",
      "data 15: ../runs/onf/MIDI-Unprocessed_04_R3_2011_MID--AUDIO_R3-D2_05_Track05_wav.midi\n",
      "data 16: ../runs/onf/MIDI-Unprocessed_059_PIANO059_MID--AUDIO-split_07-07-17_Piano-e_2-03_wav--4.midi\n",
      "data 17: ../runs/onf/MIDI-Unprocessed_05_R1_2008_01-04_ORIG_MID--AUDIO_05_R1_2008_wav--3.midi\n",
      "data 18: ../runs/onf/MIDI-Unprocessed_065_PIANO065_MID--AUDIO-split_07-07-17_Piano-e_3-01_wav--3.midi\n",
      "data 19: ../runs/onf/MIDI-Unprocessed_06_R1_2008_01-04_ORIG_MID--AUDIO_06_R1_2008_wav--3.midi\n",
      "data 20: ../runs/onf/MIDI-Unprocessed_075_PIANO075_MID--AUDIO-split_07-08-17_Piano-e_2-06_wav--3.midi\n",
      "data 21: ../runs/onf/MIDI-Unprocessed_07_R1_2006_01-04_ORIG_MID--AUDIO_07_R1_2006_04_Track04_wav.midi\n",
      "data 22: ../runs/onf/MIDI-Unprocessed_083_PIANO083_MID--AUDIO-split_07-09-17_Piano-e_2_-06_wav--1.midi\n",
      "data 23: ../runs/onf/MIDI-Unprocessed_08_R1_2009_01-04_ORIG_MID--AUDIO_08_R1_2009_08_R1_2009_03_WAV.midi\n",
      "data 24: ../runs/onf/MIDI-Unprocessed_08_R1_2009_01-04_ORIG_MID--AUDIO_08_R1_2009_08_R1_2009_04_WAV.midi\n",
      "data 25: ../runs/onf/MIDI-Unprocessed_09_R3_2008_01-07_ORIG_MID--AUDIO_09_R3_2008_wav--1.midi\n",
      "data 26: ../runs/onf/MIDI-Unprocessed_09_R3_2008_01-07_ORIG_MID--AUDIO_09_R3_2008_wav--2.midi\n",
      "data 27: ../runs/onf/MIDI-Unprocessed_10_R2_2008_01-05_ORIG_MID--AUDIO_10_R2_2008_wav--1.midi\n",
      "data 28: ../runs/onf/MIDI-Unprocessed_10_R2_2008_01-05_ORIG_MID--AUDIO_10_R2_2008_wav--2.midi\n",
      "data 29: ../runs/onf/MIDI-Unprocessed_11_R1_2009_01-05_ORIG_MID--AUDIO_11_R1_2009_11_R1_2009_04_WAV.midi\n",
      "data 30: ../runs/onf/MIDI-Unprocessed_11_R1_2009_06-09_ORIG_MID--AUDIO_11_R1_2009_11_R1_2009_07_WAV.midi\n",
      "data 31: ../runs/onf/MIDI-Unprocessed_11_R1_2009_06-09_ORIG_MID--AUDIO_11_R1_2009_11_R1_2009_08_WAV.midi\n",
      "data 32: ../runs/onf/MIDI-Unprocessed_14_R1_2008_01-05_ORIG_MID--AUDIO_14_R1_2008_wav--3.midi\n",
      "data 33: ../runs/onf/MIDI-Unprocessed_14_R1_2011_MID--AUDIO_R1-D6_04_Track04_wav.midi\n",
      "data 34: ../runs/onf/MIDI-Unprocessed_17_R1_2008_01-04_ORIG_MID--AUDIO_17_R1_2008_wav--3.midi\n",
      "data 35: ../runs/onf/MIDI-Unprocessed_24_R1_2006_01-05_ORIG_MID--AUDIO_24_R1_2006_03_Track03_wav.midi\n",
      "data 36: ../runs/onf/MIDI-Unprocessed_R2_D2-12-13-15_mid--AUDIO-from_mp3_12_R2_2015_wav--3.midi\n",
      "data 37: ../runs/onf/MIDI-Unprocessed_R2_D2-12-13-15_mid--AUDIO-from_mp3_13_R2_2015_wav--4.midi\n",
      "data 38: ../runs/onf/MIDI-Unprocessed_Recital13-15_MID--AUDIO_15_R1_2018_wav--1.midi\n",
      "data 39: ../runs/onf/MIDI-Unprocessed_Recital16_MID--AUDIO_16_R1_2018_wav--3.midi\n",
      "data 40: ../runs/onf/MIDI-Unprocessed_Recital17-19_MID--AUDIO_18_R1_2018_wav--3.midi\n",
      "data 41: ../runs/onf/MIDI-Unprocessed_Recital17-19_MID--AUDIO_19_R1_2018_wav--3.midi\n",
      "data 42: ../runs/onf/MIDI-Unprocessed_Recital9-11_MID--AUDIO_09_R1_2018_wav--5.midi\n",
      "data 43: ../runs/onf/MIDI-Unprocessed_SMF_17_R1_2004_03-06_ORIG_MID--AUDIO_20_R2_2004_12_Track12_wav--1.midi\n",
      "data 44: ../runs/onf/MIDI-Unprocessed_XP_04_R1_2004_03-05_ORIG_MID--AUDIO_04_R1_2004_06_Track06_wav.midi\n",
      "data 45: ../runs/onf/ORIG-MIDI_01_7_6_13_Group__MID--AUDIO_01_R1_2013_wav--4.midi\n",
      "data 46: ../runs/onf/ORIG-MIDI_01_7_7_13_Group__MID--AUDIO_11_R1_2013_wav--4.midi\n",
      "data 47: ../runs/onf/ORIG-MIDI_01_7_7_13_Group__MID--AUDIO_13_R1_2013_wav--3.midi\n",
      "data 48: ../runs/onf/ORIG-MIDI_02_7_6_13_Group__MID--AUDIO_08_R1_2013_wav--4.midi\n",
      "data 49: ../runs/onf/ORIG-MIDI_02_7_6_13_Group__MID--AUDIO_08_R1_2013_wav--5.midi\n"
     ]
    }
   ],
   "source": [
    "midi_files = sorted(glob.glob(\"\".join(['../runs/onf/', '*.midi'])))\n",
    "wav_files = sorted(glob.glob(\"\".join(['../runs/onf/', '*.wav'])))\n",
    "\n",
    "assert len(midi_files) == len(wav_files) and len(midi_files) != 0, 'no files'\n",
    "\n",
    "for i in range(len(midi_files)):\n",
    "    file = midi_files[i]\n",
    "    print(f'data {i}: {file}')\n",
    "    "
   ]
  },
  {
   "cell_type": "code",
   "execution_count": 20,
   "metadata": {},
   "outputs": [
    {
     "name": "stdout",
     "output_type": "stream",
     "text": [
      "data path: ../runs/onf/MIDI-Unprocessed_Recital9-11_MID--AUDIO_09_R1_2018_wav--5.wav\n",
      "audio_shape: torch.Size([3405824])\n",
      "frame_roll_shape: torch.Size([6652, 88])\n",
      "onset_roll_shape: torch.Size([6652, 88])\n"
     ]
    }
   ],
   "source": [
    "data = load(wav_files[42], midi_files[42])\n",
    "print(f'data path: {data[\"path\"]}')\n",
    "print(f'audio_shape: {data[\"audio\"].shape}')\n",
    "print(f'frame_roll_shape: {data[\"frame\"].shape}')\n",
    "print(f'onset_roll_shape: {data[\"onset\"].shape}')"
   ]
  },
  {
   "cell_type": "code",
   "execution_count": 22,
   "metadata": {},
   "outputs": [
    {
     "data": {
      "text/plain": [
       "<matplotlib.image.AxesImage at 0x7fbd20446be0>"
      ]
     },
     "execution_count": 22,
     "metadata": {},
     "output_type": "execute_result"
    },
    {
     "data": {
      "image/png": "[encoded data removed]",
      "text/plain": [
       "<Figure size 720x576 with 3 Axes>"
      ]
     },
     "metadata": {
      "needs_background": "light"
     },
     "output_type": "display_data"
    }
   ],
   "source": [
    "plt.figure(figsize=(10,8))\n",
    "plt.subplot(311).set_title('Predicted test sample')\n",
    "plt.plot(data['audio'].numpy()[:400*HOP_SIZE])\n",
    "plt.autoscale(enable=True, axis='x', tight=True)\n",
    "plt.subplot(312)\n",
    "plt.imshow(data['frame'].numpy()[:400].T, aspect='auto', origin='lower')\n",
    "plt.subplot(313)\n",
    "plt.imshow(data['onset'].numpy()[:400].T, aspect='auto', origin='lower')"
   ]
  },
  {
   "cell_type": "code",
   "execution_count": null,
   "metadata": {},
   "outputs": [],
   "source": []
  }
 ],
 "metadata": {
  "interpreter": {
   "hash": "a96d57b1bc12bd9a330f866f7a3118e9f4e5ad5921b76a2d6712d50bdc59d920"
  },
  "kernelspec": {
   "display_name": "Python 3 (ipykernel)",
   "language": "python",
   "name": "python3"
  },
  "language_info": {
   "codemirror_mode": {
    "name": "ipython",
    "version": 3
   },
   "file_extension": ".py",
   "mimetype": "text/x-python",
   "name": "python",
   "nbconvert_exporter": "python",
   "pygments_lexer": "ipython3",
   "version": "3.8.12"
  }
 },
 "nbformat": 4,
 "nbformat_minor": 4
}
