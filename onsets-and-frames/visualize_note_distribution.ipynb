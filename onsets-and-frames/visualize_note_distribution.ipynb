{
 "cells": [
  {
   "cell_type": "markdown",
   "metadata": {},
   "source": [
    "# Visualize note distribution for MAESTRO_small\n",
    "\n",
    "* Load all training dataset from MAESTRO_small\n",
    "* Divide all data into segments\n",
    "* Count num_onset for all segments and keep the results\n",
    "* Visualize results in histogram"
   ]
  },
  {
   "cell_type": "code",
   "execution_count": 1,
   "metadata": {},
   "outputs": [],
   "source": [
    "import sys\n",
    "import matplotlib.pyplot as plt\n",
    "import pretty_midi\n",
    "import soundfile as sf\n",
    "import torch\n",
    "import numpy as np\n",
    "import glob\n",
    "import math\n",
    "import IPython.display as ipd\n",
    "import pytsmod as tsm\n",
    "import librosa\n",
    "import librosa.display\n",
    "from torch.utils.data import DataLoader"
   ]
  },
  {
   "cell_type": "code",
   "execution_count": 2,
   "metadata": {},
   "outputs": [],
   "source": [
    "from onsets_and_frames.dataset import MAESTRO_scaled \n",
    "# from onsets_and_frames import *\n",
    "from train_wo_sacred import collate_scaled_audio"
   ]
  },
  {
   "cell_type": "code",
   "execution_count": 3,
   "metadata": {},
   "outputs": [],
   "source": [
    "SAMPLE_RATE = 16000\n",
    "HOP_LENGTH = SAMPLE_RATE * 32 // 1000\n",
    "ONSET_LENGTH = SAMPLE_RATE * 32 // 1000\n",
    "OFFSET_LENGTH = SAMPLE_RATE * 32 // 1000\n",
    "HOPS_IN_ONSET = ONSET_LENGTH // HOP_LENGTH\n",
    "HOPS_IN_OFFSET = OFFSET_LENGTH // HOP_LENGTH\n",
    "MIN_MIDI = 21\n",
    "MAX_MIDI = 108\n",
    "\n",
    "N_MELS = 229\n",
    "MEL_FMIN = 30\n",
    "MEL_FMAX = SAMPLE_RATE // 2\n",
    "WINDOW_LENGTH = 2048\n",
    "\n",
    "SCALE = 1.3\n",
    "SEGMENT_FRAMES = 100\n",
    "\n",
    "# x, sr = sf.read('/home/haemin/Documents/gct634_final/data/MAESTRO/2006/MIDI-Unprocessed_01_R1_2006_01-09_ORIG_MID--AUDIO_01_R1_2006_02_Track02_wav.flac', dtype='int16')\n",
    "data_path = '/home/haemin/Documents/gct634-ai613-2021/onsets-and-frames/data/MAESTRO_small'\n",
    "sequence_length = 200 * HOP_LENGTH"
   ]
  },
  {
   "cell_type": "markdown",
   "metadata": {},
   "source": [
    "## Load all training data from MAESTRO_small"
   ]
  },
  {
   "cell_type": "code",
   "execution_count": 4,
   "metadata": {
    "scrolled": true
   },
   "outputs": [
    {
     "name": "stdout",
     "output_type": "stream",
     "text": [
      "Loading 1 group of MAESTRO_scaled at /home/haemin/Documents/gct634-ai613-2021/onsets-and-frames/data/MAESTRO_small\n"
     ]
    },
    {
     "name": "stderr",
     "output_type": "stream",
     "text": [
      "Loading group train: 100%|█████████████████████████████████████████████████████████| 100/100 [00:00<00:00, 224.25it/s]"
     ]
    },
    {
     "name": "stdout",
     "output_type": "stream",
     "text": [
      "100\n"
     ]
    },
    {
     "name": "stderr",
     "output_type": "stream",
     "text": [
      "\n"
     ]
    }
   ],
   "source": [
    "train_dataset = MAESTRO_scaled(path=data_path, groups=['train'], sequence_length=sequence_length)\n",
    "\n",
    "num_train = len(train_dataset)\n",
    "print(num_train)"
   ]
  },
  {
   "cell_type": "markdown",
   "metadata": {},
   "source": [
    "## Retrieve all number of onsets for every segments\n",
    "\n",
    "Dividing and counting are all implemented using Dataset & DataLoader"
   ]
  },
  {
   "cell_type": "code",
   "execution_count": 13,
   "metadata": {},
   "outputs": [
    {
     "name": "stderr",
     "output_type": "stream",
     "text": [
      "/home/haemin/anaconda3/envs/gct634_final/lib/python3.8/site-packages/librosa/filters.py:238: UserWarning: Empty filters detected in mel frequency basis. Some channels will produce empty responses. Try increasing your sampling rate (and fmax) or reducing n_mels.\n",
      "  warnings.warn(\n"
     ]
    },
    {
     "name": "stdout",
     "output_type": "stream",
     "text": [
      "torch.Size([200])\n",
      "tensor([ 5.,  7.,  6.,  6.,  9., 11.,  6.,  4.,  4.,  7.,  7.,  9., 11.,  7.,\n",
      "         8.,  6., 10., 10.,  5., 10.,  8.,  8.,  4.,  5.,  4.,  2.,  5.,  7.,\n",
      "         8., 11.,  3.,  4.,  5.,  3.,  6.,  4.,  7.,  8.,  8.,  7.,  6.,  9.,\n",
      "         5.,  7., 12., 10., 10.,  8., 12., 10.,  6., 11.,  7.,  5.,  9.,  8.,\n",
      "         6.,  8.,  7.,  5., 10.,  9.,  9., 10., 10., 10., 10.,  9., 11., 10.,\n",
      "         8.,  9., 11., 10.,  5.,  7.,  6.,  7., 12., 10., 11., 10., 12., 10.,\n",
      "        10., 11.,  5.,  4.,  7.,  8.,  9.,  9.,  9.,  5., 11., 11.,  7.,  6.,\n",
      "         3.,  4.,  9., 13., 10.,  8.,  6.,  5., 11., 12.,  1.,  2.,  8.,  6.,\n",
      "        11., 12.,  4.,  5.,  4.,  1.,  6.,  5., 10., 12., 13.,  5.,  0.,  3.,\n",
      "        12., 10.,  6.,  6.,  6., 12.,  8.,  5.,  6.,  6.,  5.,  6.,  2.,  1.,\n",
      "         9.,  8., 10., 12.,  4.,  3.,  5.,  4.,  8.,  2.,  6.,  9.,  5., 11.,\n",
      "         7.,  3., 10.,  9.,  3.,  3., 11., 10.,  9.,  8.,  8., 10.,  6.,  8.,\n",
      "        10., 10., 12.,  6.,  5.,  5.,  7.,  7.,  8.,  8.,  8.,  8.,  7.,  7.,\n",
      "         8.,  8.,  4.,  5., 10.,  9.,  4.,  2.,  9.,  7.,  7.,  6., 10.,  9.,\n",
      "         7.,  7.,  5.,  7.])\n"
     ]
    }
   ],
   "source": [
    "# Initialize loader\n",
    "batch_size = 5\n",
    "loader = DataLoader(train_dataset, batch_size, shuffle=False, collate_fn=collate_scaled_audio, drop_last=True)\n",
    "\n",
    "# Total number of segments in training dataset\n",
    "# num_segment = sequence_length // (HOP_LENGTH * SEGMENT_FRAMES)\n",
    "# total_segment_num = num_train * num_segment\n",
    "num_batch = num_train // batch_size\n",
    "total_segment_onset = []\n",
    "\n",
    "# Get data with dataloader\n",
    "for i, data in enumerate(loader):    # every batch\n",
    "    batch_num_onsets = data['num_onsets']    # (batch_size, 2)\n",
    "    total_segment_onset.append(batch_num_onsets)\n",
    "    \n",
    "total_segment_onset = torch.stack(total_segment_onset).flatten()\n",
    "# total_segment_onset = total_segment_onset.flatten()\n",
    "print(total_segment_onset.shape)\n",
    "print(total_segment_onset)"
   ]
  },
  {
   "cell_type": "markdown",
   "metadata": {},
   "source": [
    "## Plot values in histogram"
   ]
  },
  {
   "cell_type": "code",
   "execution_count": 49,
   "metadata": {},
   "outputs": [
    {
     "name": "stdout",
     "output_type": "stream",
     "text": [
      "[ 0  1  2  3  4  5  6  7  8  9 10 11 12 13 14]\n",
      "[0.00420931 0.01026107 0.02197695 0.04135575 0.06837509 0.09932384\n",
      " 0.12676596 0.1421495  0.14004951 0.12123037 0.09220082 0.06161008\n",
      " 0.03617115 0.01865805 0.00845598]\n",
      "[0.09220082 0.06161008 0.03617115 0.01865805 0.00845598]\n",
      "0.21709608510561582\n"
     ]
    },
    {
     "data": {
      "image/png": "[encoded data removed]",
      "text/plain": [
       "<Figure size 432x288 with 1 Axes>"
      ]
     },
     "metadata": {
      "needs_background": "light"
     },
     "output_type": "display_data"
    }
   ],
   "source": [
    "vis_total_segment_onset = total_segment_onset.numpy().astype('int32')\n",
    "vis_bin = np.arange(0, max(vis_total_segment_onset+2), 1)\n",
    "# print(bins)\n",
    "# print(vis_total_segment_onset)\n",
    "\n",
    "# Statistics from the data\n",
    "mu = np.mean(vis_total_segment_onset)  # mean of distribution\n",
    "sigma = np.std(vis_total_segment_onset)  # standard deviation of distribution\n",
    "\n",
    "fig, ax = plt.subplots()\n",
    "counts, bins, patches = ax.hist(vis_total_segment_onset, bins=vis_bin, edgecolor='gray', density=True)\n",
    "ax.set_xticks(bins)\n",
    "fig.gca().set(title='Detected Onset Histogram', xlabel= '# of onsets', ylabel='# of segments');\n",
    "\n",
    "# add a 'best fit' line\n",
    "y = ((1 / (np.sqrt(2 * np.pi) * sigma)) *\n",
    "     np.exp(-0.5 * (1 / sigma * (bins - mu))**2))\n",
    "print(bins)\n",
    "print(y)\n",
    "ax.plot(bins, y, '--')\n",
    "\n",
    "print(y[-5:])\n",
    "print(np.sum(y[-5:]))"
   ]
  }
 ],
 "metadata": {
  "interpreter": {
   "hash": "de6df30355d7931246ff51d35175e7b9e46c72bab5b480631d53a6fb9f6779c6"
  },
  "kernelspec": {
   "display_name": "Python 3 (ipykernel)",
   "language": "python",
   "name": "python3"
  },
  "language_info": {
   "codemirror_mode": {
    "name": "ipython",
    "version": 3
   },
   "file_extension": ".py",
   "mimetype": "text/x-python",
   "name": "python",
   "nbconvert_exporter": "python",
   "pygments_lexer": "ipython3",
   "version": "3.8.12"
  }
 },
 "nbformat": 4,
 "nbformat_minor": 4
}
